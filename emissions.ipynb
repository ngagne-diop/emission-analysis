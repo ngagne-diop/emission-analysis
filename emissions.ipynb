{
 "cells": [
  {
   "cell_type": "code",
   "execution_count": 1,
   "id": "d5ae461f",
   "metadata": {},
   "outputs": [],
   "source": [
    "# @ author: Ngagne Diop\n",
    "#   date : 2021, December 27\n",
    "# Import data analysis modules\n",
    "import pandas as pd\n",
    "import numpy as np"
   ]
  },
  {
   "cell_type": "markdown",
   "id": "24d421df",
   "metadata": {},
   "source": [
    "# I-1- Energy type for car fleet in Hauts-de-France"
   ]
  },
  {
   "cell_type": "code",
   "execution_count": 2,
   "id": "b0ee0b28",
   "metadata": {},
   "outputs": [
    {
     "name": "stderr",
     "output_type": "stream",
     "text": [
      "/home/ndiop/anaconda3/lib/python3.8/site-packages/IPython/core/interactiveshell.py:3165: DtypeWarning: Columns (0,2,4,6) have mixed types.Specify dtype option on import or set low_memory=False.\n",
      "  has_raised = await self.run_ast_nodes(code_ast.body, cell_name,\n"
     ]
    }
   ],
   "source": [
    "# French car fleet\n",
    "P = pd.read_csv(\"/home/ndiop/Documents/phd/scripts/parc_vp_communes/Parc_VP_Communes_2021.csv\", sep=\";\", encoding=\"utf-8\")"
   ]
  },
  {
   "cell_type": "code",
   "execution_count": 3,
   "id": "4cce7d0f",
   "metadata": {},
   "outputs": [
    {
     "data": {
      "text/plain": [
       "Gazole                          174529\n",
       "Essence                         139043\n",
       "Gaz                              26205\n",
       "Inconnu                          23523\n",
       "Electrique et hydrogène          22862\n",
       "Essence hybride rechargeable     17176\n",
       "Gazole hybride rechargeable       2274\n",
       "Name: Energie, dtype: int64"
      ]
     },
     "execution_count": 3,
     "metadata": {},
     "output_type": "execute_result"
    }
   ],
   "source": [
    "# type of energy of the vehicles\n",
    "P.Energie.value_counts()"
   ]
  },
  {
   "cell_type": "code",
   "execution_count": 4,
   "id": "2ecb9c62",
   "metadata": {},
   "outputs": [],
   "source": [
    "# Hauts-de-France car fleet\n",
    "isHdF=P[\"CodeRegion\"]==32\n",
    "H=P[isHdF]"
   ]
  },
  {
   "cell_type": "code",
   "execution_count": 7,
   "id": "d1b66992",
   "metadata": {},
   "outputs": [],
   "source": [
    "D=H[H[\"Energie\"]==\"Gazole\"]\n",
    "E=H[H[\"Energie\"]==\"Essence\"]\n",
    "G=H[H[\"Energie\"]==\"Gaz\"]\n",
    "I=H[H[\"Energie\"]==\"Inconnu\"]\n",
    "GG=H[H[\"Energie\"]==\"Electrique et hydrogène\"]\n",
    "II=H[H[\"Energie\"]==\"Essence hybride rechargeable\"]"
   ]
  },
  {
   "cell_type": "code",
   "execution_count": 8,
   "id": "9a5d9c61",
   "metadata": {},
   "outputs": [],
   "source": [
    "d = D[\"Parc01012021\"].sum()/H[\"Parc01012021\"].sum()\n",
    "e = E[\"Parc01012021\"].sum()/H[\"Parc01012021\"].sum()\n",
    "g = G[\"Parc01012021\"].sum()/H[\"Parc01012021\"].sum()\n",
    "i = I[\"Parc01012021\"].sum()/H[\"Parc01012021\"].sum()\n",
    "gg= GG[\"Parc01012021\"].sum()/H[\"Parc01012021\"].sum()\n",
    "ii= II[\"Parc01012021\"].sum()/H[\"Parc01012021\"].sum()"
   ]
  },
  {
   "cell_type": "code",
   "execution_count": 10,
   "id": "430ad06e",
   "metadata": {},
   "outputs": [
    {
     "name": "stdout",
     "output_type": "stream",
     "text": [
      "0.6092645773144453 0.37686269065642475 0.0053291803293997585 6.252684022416263e-05 0.005081395676005217 0.0032608201710188373\n"
     ]
    }
   ],
   "source": [
    "print(d,e,g,i,gg,ii) # Diesel and Essence for 98% of energy type (60% for diesel and 38% for essence)"
   ]
  },
  {
   "cell_type": "markdown",
   "id": "9788be54",
   "metadata": {},
   "source": [
    "# I-2- Emission calcul"
   ]
  },
  {
   "cell_type": "code",
   "execution_count": 11,
   "id": "d3334dd5",
   "metadata": {},
   "outputs": [],
   "source": [
    "# Recovery of the total distance traveled from MATSim standard simulation\n",
    "T1 = pd.read_csv(\"/home/ndiop/Documents/phd/simul/ide/matsim-code-examples/scenarios/mel/baseCase/output_trips.csv\", sep=\";\",encoding=\"utf-8\")\n",
    "d1 = T1.groupby(['person'])['traveled_distance'].sum().reset_index()\n",
    "d2=d1.rename(columns={\"person\":\"id\"})"
   ]
  },
  {
   "cell_type": "code",
   "execution_count": 13,
   "id": "dd0a1135",
   "metadata": {},
   "outputs": [],
   "source": [
    "# Recovery of the mode and class of income of the persons from recupTripModeCat.awk\n",
    "O1 = pd.read_csv(\"/home/ndiop/Documents/phd/scripts/emission/outbasecaseMELok.csv\", sep=\";\",encoding=\"utf-8\")\n",
    "O2=O1.drop_duplicates(subset=['id'], keep='last')\n",
    "O2.reset_index(drop=True, inplace=True)"
   ]
  },
  {
   "cell_type": "code",
   "execution_count": 14,
   "id": "90062fb1",
   "metadata": {},
   "outputs": [],
   "source": [
    "# Joining of base modes O1 and distances travelled d1\n",
    "T2 = pd.merge(d2.copy(), O2.copy(), how='left',on =\"id\")"
   ]
  },
  {
   "cell_type": "code",
   "execution_count": 15,
   "id": "c49b3695",
   "metadata": {},
   "outputs": [
    {
     "name": "stderr",
     "output_type": "stream",
     "text": [
      "/home/ndiop/anaconda3/lib/python3.8/site-packages/IPython/core/interactiveshell.py:3165: DtypeWarning: Columns (2) have mixed types.Specify dtype option on import or set low_memory=False.\n",
      "  has_raised = await self.run_ast_nodes(code_ast.body, cell_name,\n"
     ]
    }
   ],
   "source": [
    "# emissions events from MATSim emission extension for base scenario with recupEmission.awk\n",
    "E1 = pd.read_csv(\"/home/ndiop/Documents/phd/simul/ide/matsim-code-examples/emissionsBaseMEL.csv\", sep=\",\",encoding=\"utf-8\")\n",
    "\n",
    "# sum of emissions per person\n",
    "E2 = E1.copy().groupby(['id']).sum().reset_index()"
   ]
  },
  {
   "cell_type": "code",
   "execution_count": 16,
   "id": "fc846841",
   "metadata": {},
   "outputs": [],
   "source": [
    "# Récupération des énergie des véhicules\n",
    "N = pd.read_csv(\"/home/ndiop/Documents/phd/simul/ide/matsim-code-examples/energyVehiclesMEL.csv\", sep=\",\",encoding=\"utf-8\")"
   ]
  },
  {
   "cell_type": "code",
   "execution_count": 17,
   "id": "2f25bd20",
   "metadata": {},
   "outputs": [],
   "source": [
    "# Energy affectation N ti vehicles E2\n",
    "T3 = pd.merge(E2.copy(), N.copy(), how='left',on =\"id\")\n",
    "\n",
    "# Joining T3 emissions and T2 trip data\n",
    "T4 = pd.merge(T3.copy(),T2.copy(), how='left',on =\"id\")\n",
    "\n",
    "T5 = T4.copy()['id'].str.split('_').str[0]\n",
    "T5 = T5.to_frame()\n",
    "T5 = T5.rename(columns = {'id':'person'})\n",
    "T6 = pd.concat([T5.copy(),T4.copy()], axis=1, ignore_index=False)"
   ]
  },
  {
   "cell_type": "code",
   "execution_count": 18,
   "id": "6d524dfc",
   "metadata": {},
   "outputs": [],
   "source": [
    "# emissions per person\n",
    "T6.to_csv(\"/home/ndiop/Documents/phd/simul/ide/matsim-code-examples/scenarios/mel/baseCase/emissionperPerson.csv\", sep=\";\", encoding=\"utf8\", index=False)\n",
    "\n",
    "T7=T6[T6[\"mode\"]==\"car\"] # used for emission per cat and energy\n",
    "# emissions per person\n",
    "T7.to_csv(\"/home/ndiop/Documents/phd/simul/ide/matsim-code-examples/scenarios/mel/baseCase/emissionperPersonCar.csv\", sep=\";\", encoding=\"utf8\", index=False)"
   ]
  },
  {
   "cell_type": "code",
   "execution_count": 19,
   "id": "4064da3e",
   "metadata": {},
   "outputs": [],
   "source": [
    "T9=T7[(T7[\"nrj\"]==\"car_diesel\")|(T7[\"nrj\"]==\"car_petrol\")]\n",
    "# emissions per person\n",
    "T9.to_csv(\"/home/ndiop/Documents/phd/simul/ide/matsim-code-examples/scenarios/mel/baseCase/emissionperPersonNRJ.csv\", sep=\";\", encoding=\"utf8\", index=False)"
   ]
  },
  {
   "cell_type": "code",
   "execution_count": 20,
   "id": "b2b138da",
   "metadata": {},
   "outputs": [
    {
     "data": {
      "text/html": [
       "<div>\n",
       "<style scoped>\n",
       "    .dataframe tbody tr th:only-of-type {\n",
       "        vertical-align: middle;\n",
       "    }\n",
       "\n",
       "    .dataframe tbody tr th {\n",
       "        vertical-align: top;\n",
       "    }\n",
       "\n",
       "    .dataframe thead th {\n",
       "        text-align: right;\n",
       "    }\n",
       "</style>\n",
       "<table border=\"1\" class=\"dataframe\">\n",
       "  <thead>\n",
       "    <tr style=\"text-align: right;\">\n",
       "      <th></th>\n",
       "      <th>cat</th>\n",
       "      <th>nrj</th>\n",
       "      <th>fc</th>\n",
       "      <th>co2</th>\n",
       "      <th>pmx</th>\n",
       "    </tr>\n",
       "  </thead>\n",
       "  <tbody>\n",
       "    <tr>\n",
       "      <th>0</th>\n",
       "      <td>rev1</td>\n",
       "      <td>car_diesel</td>\n",
       "      <td>7.640368e+06</td>\n",
       "      <td>2.325544e+07</td>\n",
       "      <td>1616.369496</td>\n",
       "    </tr>\n",
       "    <tr>\n",
       "      <th>1</th>\n",
       "      <td>rev1</td>\n",
       "      <td>car_petrol</td>\n",
       "      <td>5.036509e+06</td>\n",
       "      <td>1.533978e+07</td>\n",
       "      <td>1067.130670</td>\n",
       "    </tr>\n",
       "    <tr>\n",
       "      <th>2</th>\n",
       "      <td>rev2</td>\n",
       "      <td>car_diesel</td>\n",
       "      <td>3.648257e+07</td>\n",
       "      <td>1.111350e+08</td>\n",
       "      <td>7676.393131</td>\n",
       "    </tr>\n",
       "    <tr>\n",
       "      <th>3</th>\n",
       "      <td>rev2</td>\n",
       "      <td>car_petrol</td>\n",
       "      <td>2.393692e+07</td>\n",
       "      <td>7.291687e+07</td>\n",
       "      <td>5037.123318</td>\n",
       "    </tr>\n",
       "    <tr>\n",
       "      <th>4</th>\n",
       "      <td>rev3</td>\n",
       "      <td>car_diesel</td>\n",
       "      <td>2.933333e+07</td>\n",
       "      <td>8.940657e+07</td>\n",
       "      <td>6273.086715</td>\n",
       "    </tr>\n",
       "    <tr>\n",
       "      <th>5</th>\n",
       "      <td>rev3</td>\n",
       "      <td>car_petrol</td>\n",
       "      <td>1.947553e+07</td>\n",
       "      <td>5.933012e+07</td>\n",
       "      <td>4165.431237</td>\n",
       "    </tr>\n",
       "  </tbody>\n",
       "</table>\n",
       "</div>"
      ],
      "text/plain": [
       "    cat         nrj            fc           co2          pmx\n",
       "0  rev1  car_diesel  7.640368e+06  2.325544e+07  1616.369496\n",
       "1  rev1  car_petrol  5.036509e+06  1.533978e+07  1067.130670\n",
       "2  rev2  car_diesel  3.648257e+07  1.111350e+08  7676.393131\n",
       "3  rev2  car_petrol  2.393692e+07  7.291687e+07  5037.123318\n",
       "4  rev3  car_diesel  2.933333e+07  8.940657e+07  6273.086715\n",
       "5  rev3  car_petrol  1.947553e+07  5.933012e+07  4165.431237"
      ]
     },
     "execution_count": 20,
     "metadata": {},
     "output_type": "execute_result"
    }
   ],
   "source": [
    "# sum of emissions per person\n",
    "T10 = T9.copy().groupby(['cat','nrj']).sum().reset_index()\n",
    "\n",
    "# emissions per person and income class\n",
    "T10.to_csv(\"/home/ndiop/Documents/phd/simul/ide/matsim-code-examples/scenarios/mel/baseCase/emissionResult.csv\", sep=\";\", encoding=\"utf8\", index=False)\n",
    "T10[[\"cat\",\"nrj\",\"fc\",\"co2\",\"pmx\"]]"
   ]
  }
 ],
 "metadata": {
  "kernelspec": {
   "display_name": "Python 3",
   "language": "python",
   "name": "python3"
  },
  "language_info": {
   "codemirror_mode": {
    "name": "ipython",
    "version": 3
   },
   "file_extension": ".py",
   "mimetype": "text/x-python",
   "name": "python",
   "nbconvert_exporter": "python",
   "pygments_lexer": "ipython3",
   "version": "3.8.8"
  }
 },
 "nbformat": 4,
 "nbformat_minor": 5
}
